{
 "cells": [
  {
   "cell_type": "code",
   "execution_count": 101,
   "id": "190befeb-aae2-4275-bb94-bad49772eccc",
   "metadata": {},
   "outputs": [
    {
     "name": "stdout",
     "output_type": "stream",
     "text": [
      "Requirement already satisfied: tqdm in /opt/conda/lib/python3.10/site-packages (4.64.1)\n"
     ]
    }
   ],
   "source": [
    "!pip install tqdm\n",
    "import csv\n",
    "import os\n",
    "import datetime\n",
    "from datetime import datetime\n",
    "import pandas as pd\n",
    "from tqdm import tqdm\n",
    "import numpy as np\n",
    "import matplotlib.pyplot as plt \n",
    "import itertools\n",
    "import warnings\n",
    "\n",
    "warnings.simplefilter(\"ignore\", UserWarning)\n",
    "\n",
    "#power_dict = {key.lower(): {} for key in device_dict.values()}\n",
    "device_list=['television', 'fan', 'fridge', 'laptop computer', 'electric heating element', 'oven', 'unknown', 'washing machine', 'microwave', 'toaster', 'sockets', 'cooker']\n", 
    "device_dict = {2: 'Television', 3: 'Fan', 4: 'Fridge', 5: 'Laptop computer', 6: 'Electric heating element', 7: 'Oven', 8: 'Unknown', 9: 'Washing machine', 10: 'Microwave', 11: 'Toaster', 12: 'Sockets', 13: 'Cooker'}\n",
   ]
  },
  {
   "cell_type": "code",
   "execution_count": 192,
   "id": "770d454b-90a9-4990-b389-d542f8aaf1b9",
   "metadata": {},
   "outputs": [],
   "source": [
    "def process_file(filename, device_dict):\n",
    "    # Initialize power_dict with keys for each device name (lowercase)\n",
    "    power_dict = {key.lower(): {} for key in device_dict.values()}\n",
    "\n",
    "    # Get file name and create date object\n",
    "    date_str = os.path.basename(filename).split(\".\")[0]\n",
    "    samples = []\n",
    "    # Open file and read through it, adding data to power_dict\n",
    "    with open(filename, 'r') as file:\n",
    "        csvreader = csv.reader(file)\n",
    "        lines = [line for line in csvreader]\n",
    "        print(len(lines))\n",
    "        row_count = 26\n",
    "        current_day = None\n",
    "        for row in tqdm(itertools.islice(lines, 29, 13301960), total=13301960, smoothing=0):  # 60 #29\n",
    "\n",
    "            date_time = datetime.strptime(row[0], '%Y-%m-%d %H:%M:%S%z')\n",
    "            if current_day is None:\n",
    "                current_day = date_time.date()\n",
    "            elif date_time.date() != current_day:\n",
    "                processed_data = formatting(power_dict)\n",
    "                samples.append(processed_data)\n",
    "                power_dict = {key.lower(): {} for key in device_dict.values()}\n",
    "                current_day = date_time.date()\n",
    "\n",
    "            count = 0\n",
    "            for value in row[1:]:\n",
    "                power_dict[device_list[count]][date_time] = float(value)\n",
    "                count += 1\n",
    "\n",
    "    return samples\n"
   ]
  },
  {
   "cell_type": "code",
   "execution_count": 193,
   "id": "629760f0-1666-4d3d-833c-c7dcf5b9926a",
   "metadata": {},
   "outputs": [],
   "source": [
    "def formatting(power_dict):\n",
    "    processed_data = {}\n",
    "    for appliance in power_dict:\n",
    "        # Convert the data in the inner dictionary to a dataframe\n",
    "        power_dict[appliance] = pd.DataFrame.from_dict(power_dict[appliance], \n",
    "                                                        orient='index', \n",
    "                                                        columns=[appliance])\n",
    "        \n",
    "        power_dict[appliance].index = pd.to_datetime(power_dict[appliance].index,utc=True)\n",
    "\n",
    "        # Resample the dataframe to 7 seconds intervals and backfill the missing values\n",
    "        power_dict[appliance] = power_dict[appliance].resample('7s').ffill(limit=1).fillna(0)\n",
    "        # Convert the index to period of seconds\n",
    "        power_dict[appliance].index = power_dict[appliance].index.to_period('s')\n",
    "\n",
    "        # Check if sample has at least 2 non-NaN elements and has at least one value greater than 20\n",
    "        #sample = power_dict[appliance].to_numpy()\n",
    "        #if len(sample) < 2 or not np.any(sample > 20):\n",
    "            #continue\n",
    "\n",
    "        processed_data[appliance] = power_dict[appliance]\n",
    "return processed_data"
   ]
  },
  {
   "cell_type": "code",
   "execution_count": 194,
   "id": "2569490c-e7cf-413c-8b4a-0bcbbbca64aa",
   "metadata": {
    "tags": []
   },
   "outputs": [
    {
     "name": "stdout",
     "output_type": "stream",
     "text": [
      "13302002\n"
     ]
    },
    {
     "name": "stderr",
     "output_type": "stream",
     "text": [
      "100%|█████████▉| 13301931/13301960 [14:51<00:00, 14924.99it/s]\n"
     ]
    },
    {
     "name": "stdout",
     "output_type": "stream",
     "text": [
      "dict_keys(['television', 'fan', 'fridge', 'laptop computer', 'electric heating element', 'oven', 'unknown', 'washing machine', 'microwave', 'toaster', 'sockets', 'cooker'])\n"
     ]
    }
   ],
   "source": [
    "path = 'DRED'\n",
    "files = os.listdir(path)\n",
    "\n",
    "samples=process_file('DRED/Appliance_data.csv', device_dict)\n",
    "keys=['television', 'fan', 'fridge', 'laptop computer', 'electric heating element', 'oven', 'unknown', 'washing machine', 'microwave', 'toaster', 'sockets', 'cooker']\n",
    "\n",
    "processed_data = {key: [sample[key] for sample in samples] for key in keys}"
   ]
  },
  {
   "cell_type": "code",
   "execution_count": 195,
   "id": "1b9ddcb1-e294-4a8a-be86-84ad5f984d62",
   "metadata": {},
   "outputs": [],
   "source": [
    "import pickle\n",
    "# Save processed data to a pickle file\n",
    "with open('DRED_processed.pickle', 'wb') as handle:\n",
    "    pickle.dump(processed_data, handle, protocol=pickle.HIGHEST_PROTOCOL)"
   ]
  }
 ],
 "metadata": {
  "kernelspec": {
   "display_name": "Python 3 (ipykernel)",
   "language": "python",
   "name": "python3"
  },
  "language_info": {
   "codemirror_mode": {
    "name": "ipython",
    "version": 3
   },
   "file_extension": ".py",
   "mimetype": "text/x-python",
   "name": "python",
   "nbconvert_exporter": "python",
   "pygments_lexer": "ipython3",
   "version": "3.10.8"
  }
 },
 "nbformat": 4,
 "nbformat_minor": 5
}
