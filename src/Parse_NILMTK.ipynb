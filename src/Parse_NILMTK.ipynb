{
 "cells": [
  {
   "cell_type": "markdown",
   "id": "b0ff71c4-0c2d-4c9b-a6b8-020165a0778c",
   "metadata": {
    "tags": []
   },
   "source": [
    "# imports"
   ]
  },
  {
   "cell_type": "code",
   "execution_count": 1,
   "id": "cad7c86f-8e41-40e4-bea0-386091114db4",
   "metadata": {},
   "outputs": [],
   "source": [
    "%reload_ext autoreload\n",
    "%autoreload 2"
   ]
  },
  {
   "cell_type": "code",
   "execution_count": null,
   "id": "b2275c74-bd08-448a-865f-4a69d55c8d1a",
   "metadata": {
    "tags": []
   },
   "outputs": [],
   "source": [
    "!pip uninstall -y -q nilmtk nilm_metadata\n",
    "!pip install tqdm\n",
    "!python3 -m pip install --no-deps git+https://github.com/nilmtk/nilmtk@master\n",
    "!python3 -m pip install --no-deps git+https://github.com/nilmtk/nilm_metadata@master"
   ]
  },
  {
   "cell_type": "code",
   "execution_count": 3,
   "id": "80af8af7-8d4b-41a3-b754-3a16014191f8",
   "metadata": {},
   "outputs": [],
   "source": [
    "import warnings\n",
    "warnings.simplefilter(action='ignore', category=FutureWarning)\n",
    "from nilmtk import DataSet\n",
    "import networkx as nx\n",
    "import matplotlib.pyplot as plt\n",
    "import numpy as np\n",
    "import pandas as pd\n",
    "from collections import defaultdict\n",
    "from joblib import Memory\n",
    "import pickle\n",
    "from tqdm import tqdm\n",
    "import multiprocessing as mp\n",
    "from typing import Dict\n",
    "memory = Memory(location='./cache')\n"
   ]
  },
  {
   "cell_type": "markdown",
   "id": "467561b5-3317-4947-8228-8220af58bc66",
   "metadata": {},
   "source": [
    "# functions"
   ]
  },
  {
   "cell_type": "code",
   "execution_count": null,
   "id": "4457f132-1af8-4dba-af9e-c82035b4806f",
   "metadata": {},
   "outputs": [],
   "source": [
    "@memory.cache\n",
    "\n",
    "def load_dataset():\n",
    "try:\n",
    "# Load REFIT dataset from .hdf5 file\n",
    "dataset = DataSet('shared/nilm-start/refit.hdf5')\n",
    "\n",
    "    samples = []\n",
    "    \n",
    "    # Calculate the total number of meters in the dataset for the progress bar\n",
    "    counter = 0\n",
    "    for meter in range(len(dataset.buildings.items())):\n",
    "        counter += (len(dataset.buildings[meter + 1].elec.all_meters()))\n",
    "        \n",
    "    # Use a progress bar to display the loading process\n",
    "    with tqdm(total=counter, desc='loading_meters', smoothing=0) as pbar:  \n",
    "        # Go thru every meter of every building and save the data\n",
    "        for building_idx, building in dataset.buildings.items():\n",
    "            for meter in building.elec.all_meters():\n",
    "\n",
    "                data = list(meter.load())\n",
    "                \n",
    "\n",
    "                assert len(data) == 1\n",
    "\n",
    "                # Store the sample information including the building index,\n",
    "                # the appliance type(s), the meter data, and the good sections of the meter data\n",
    "                sample = (building_idx, list([a.type['type'] for a in meter.appliances]), data, meter.good_sections())\n",
    "\n",
    "\n",
    "                samples.append(sample)\n",
    "                pbar.update(1)\n",
    "\n",
    "        return samples\n",
    "\n",
    "except Exception as e:\n",
    "    # Close the dataset store in case of an exception\n",
    "    dataset.store.close()\n",
    "    # Raise the exception\n",
    "    raise e"
   ]
  },
  {
   "cell_type": "code",
   "execution_count": 22,
   "id": "87cbd435-4bc2-4ece-b415-49d8614b9fac",
   "metadata": {},
   "outputs": [
    {
     "name": "stderr",
     "output_type": "stream",
     "text": [
      "100%|██████████| 111/111 [00:18<00:00,  5.97it/s]\n"
     ]
    }
   ],
   "source": [
    "def data_preparation(dataset):\n",
    "    X = defaultdict(lambda: [])\n",
    "\n",
    "    for (idx, appliances, data, good_sections) in tqdm(dataset):\n",
    "        #print(idx, appliances)\n",
    "        if not appliances:\n",
    "            continue\n",
    "            \n",
    "        appliance = appliances[0]\n",
    "        data = data[0]\n",
    "    \n",
    "        samples = [data[good.start:good.end] for good in good_sections]\n",
    "        X[appliance].extend(samples)\n",
    "        \n",
    "    return X\n",
    "\n",
    "prepared_data  = data_preparation(dataset)"
   ]
  },
  {
   "cell_type": "code",
   "execution_count": 23,
   "id": "f6bc6a9d-c5fa-4d1f-b556-1ff8274716cc",
   "metadata": {},
   "outputs": [
    {
     "name": "stderr",
     "output_type": "stream",
     "text": [
      "100%|██████████| 54/54 [00:52<00:00,  1.03it/s]\n"
     ]
    }
   ],
   "source": [
    "processed_data = {}\n",
    "\n",
    "for appliance, samples in tqdm(prepared_data.items(),smoothing=0):\n",
    "    processed_samples = []\n",
    "    for sample in samples:\n",
    "        sample = sample.resample('7s').fillna(\"backfill\")\n",
    "        #sample = sample.resample('7s').ffill(limit=1).fillna(0)\n",
    "        # It should contain at least one sample\n",
    "        if len(sample) < 2:\n",
    "            continue\n",
    "        \n",
    "        # TODO: Filter < 20W (Poglej Blažev članek\n",
    "        if not np.any(sample.to_numpy() > 20):\n",
    "            continue\n",
    "            \n",
    "        processed_samples.append(sample)\n",
    "        \n",
    "    processed_data[appliance] = list(processed_samples)\n",
    "    \n",
    "    #processed_data[appliance] = list([s.resample('7s').ffill(limit=1).fillna(0) for s in samples])\n",
    "    \n",
    "processed_data.pop('unknown', None);\n"
   ]
  },
  {
   "cell_type": "code",
   "execution_count": null,
   "id": "48931a9c-33c5-4d2f-a928-fcb791bc60b5",
   "metadata": {
    "tags": []
   },
   "outputs": [],
   "source": [
    "pickle.dump(processed_data, open('processed_dataset','wb'))\n"
   ]
  }
 ],
 "metadata": {
  "kernelspec": {
   "display_name": "Python 3 (ipykernel)",
   "language": "python",
   "name": "python3"
  },
  "language_info": {
   "codemirror_mode": {
    "name": "ipython",
    "version": 3
   },
   "file_extension": ".py",
   "mimetype": "text/x-python",
   "name": "python",
   "nbconvert_exporter": "python",
   "pygments_lexer": "ipython3",
   "version": "3.10.8"
  }
 },
 "nbformat": 4,
 "nbformat_minor": 5
}
