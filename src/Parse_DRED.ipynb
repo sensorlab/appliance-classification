{
 "cells": [
  {
   "cell_type": "code",
   "execution_count": 8,
   "id": "ce3bce27-512b-4fd4-99ad-98b3cde6bad8",
   "metadata": {},
   "outputs": [],
   "source": [
    "import os\n",
    "import csv\n",
    "import datetime\n",
    "from datetime import datetime\n",
    "import pandas as pd\n",
    "from tqdm import tqdm\n",
    "import numpy as np\n",
    "import matplotlib.pyplot as plt\n",
    "import itertools\n",
    "import warnings\n",
    "\n",
    "warnings.simplefilter(\"ignore\", UserWarning)\n",
    "\n",
    "device_list = ['television', 'fan', 'fridge', 'laptop computer', 'electric heating element', 'oven', 'unknown', 'washing machine', 'microwave', 'toaster', 'sockets', 'cooker']\n",
    "device_dict = {2: 'Television', 3: 'Fan', 4: 'Fridge', 5: 'Laptop computer', 6: 'Electric heating element', 7: 'Oven', 8: 'Unknown', 9: 'Washing machine', 10: 'Microwave', 11: 'Toaster', 12: 'Sockets', 13: 'Cooker'}\n",
    "\n",
    "\n"
   ]
  },
  {
   "cell_type": "code",
   "execution_count": 9,
   "id": "48b6068a-5b87-449d-9e23-f40980842c77",
   "metadata": {},
   "outputs": [],
   "source": [
    "def process_file(filename, device_dict):\n",
    "    # Initialize power_dict with keys for each device name (lowercase)\n",
    "    power_dict = {key.lower(): {} for key in device_dict.values()}\n",
    "\n",
    "    # Get file name and create date object\n",
    "    date_str = os.path.basename(filename).split(\".\")[0]\n",
    "    samples = []\n",
    "\n",
    "    # Open file and read through it, adding data to power_dict\n",
    "    with open(filename, 'r') as file:\n",
    "        csvreader = csv.reader(file)\n",
    "        lines = [line for line in csvreader]\n",
    "        print(len(lines))\n",
    "        row_count = 26\n",
    "        current_day = None\n",
    "        for row in tqdm(itertools.islice(lines, 29, 13301960), total=13301960, smoothing=0):\n",
    "            date_time = datetime.strptime(row[0], '%Y-%m-%d %H:%M:%S%z')\n",
    "            if current_day is None:\n",
    "                current_day = date_time.date()\n",
    "            elif date_time.date() != current_day:\n",
    "                processed_data = formatting(power_dict)\n",
    "                samples.append(processed_data)\n",
    "                power_dict = {key.lower(): {} for key in device_dict.values()}\n",
    "                current_day = date_time.date()\n",
    "            count = 0\n",
    "            for value in row[1:]:\n",
    "                power_dict[device_list[count]][date_time] = float(value)\n",
    "                count += 1\n",
    "    return samples\n",
    "\n",
    "\n",
    "\n"
   ]
  },
  {
   "cell_type": "code",
   "execution_count": 10,
   "id": "36f2a543-f8ec-495e-90bd-f14d7feea124",
   "metadata": {},
   "outputs": [],
   "source": [
    "def formatting(power_dict):\n",
    "    processed_data = {}\n",
    "    for appliance in power_dict:\n",
    "        # Convert the data in the inner dictionary to a dataframe\n",
    "        power_dict[appliance] = pd.DataFrame.from_dict(power_dict[appliance], orient='index', columns=[appliance])\n",
    "        power_dict[appliance].index = pd.to_datetime(power_dict[appliance].index, utc=True)\n",
    "        # Resample the dataframe to 7 seconds intervals and backfill the missing values\n",
    "        power_dict[appliance] = power_dict[appliance].resample('7s').ffill(limit=1).fillna(0)\n",
    "        # Convert the index to period of seconds\n",
    "        power_dict[appliance].index = power_dict[appliance].index.to_period('s')\n",
    "        processed_data[appliance] = power_dict[appliance]\n",
    "    return processed_data"
   ]
  },
  {
   "cell_type": "code",
   "execution_count": null,
   "id": "09bbf7a4-aeff-493f-9ff1-00442482b719",
   "metadata": {},
   "outputs": [],
   "source": [
    "path = 'DRED'\n",
    "files = os.listdir(path)\n",
    "\n",
    "samples = process_file('DRED/Appliance_data.csv', device_dict)\n",
    "\n",
    "processed_data = {key: [sample[key] for sample in samples] for key in device_list}\n",
    "\n",
    "import pickle\n",
    "# Save processed data to a pickle file\n",
    "with open('DRED_processed.pickle', 'wb') as handle:\n",
    "    pickle.dump(processed_data, handle, protocol=pickle.HIGHEST_PROTOCOL)\n"
   ]
  }
 ],
 "metadata": {
  "kernelspec": {
   "display_name": "Python 3 (ipykernel)",
   "language": "python",
   "name": "python3"
  },
  "language_info": {
   "codemirror_mode": {
    "name": "ipython",
    "version": 3
   },
   "file_extension": ".py",
   "mimetype": "text/x-python",
   "name": "python",
   "nbconvert_exporter": "python",
   "pygments_lexer": "ipython3",
   "version": "3.10.8"
  }
 },
 "nbformat": 4,
 "nbformat_minor": 5
}
