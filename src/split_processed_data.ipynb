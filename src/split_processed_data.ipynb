{
 "cells": [
  {
   "cell_type": "code",
   "execution_count": 9,
   "id": "a4b8d97d-caf9-41b6-b83d-a8dfd66f43a7",
   "metadata": {},
   "outputs": [],
   "source": [
    "import os\n",
    "import random\n",
    "import pickle\n",
    "\n",
    "# Set the input and output folder paths\n",
    "input_folder = 'processed_data_final'\n",
    "output_folder_train = 'processed_data_final_train'\n",
    "output_folder_validate = 'processed_data_final_validate'\n",
    "\n",
    "# Create the output folders if they don't exist\n",
    "os.makedirs(output_folder_train, exist_ok=True)\n",
    "os.makedirs(output_folder_validate, exist_ok=True)\n",
    "\n",
    "# Set the train-validation split ratio\n",
    "split_ratio = 0.3\n",
    "\n",
    "# Loop over the pickle files in the input folder\n",
    "for file_name in os.listdir(input_folder):\n",
    "    # Load the pickle file\n",
    "    with open(os.path.join(input_folder, file_name), 'rb') as f:\n",
    "        device_data = pickle.load(f)\n",
    "    \n",
    "    # Get the number of samples to be included in validation set\n",
    "    num_samples_validate = int(len(device_data) * split_ratio)\n",
    "    \n",
    "    # Shuffle the sample IDs\n",
    "    sample_ids = list(device_data.keys())\n",
    "    random.shuffle(sample_ids)\n",
    "    \n",
    "    # Split the sample IDs into train and validation sets\n",
    "    sample_ids_train = sample_ids[num_samples_validate:]\n",
    "    sample_ids_validate = sample_ids[:num_samples_validate]\n",
    "    \n",
    "    # Create the train data dictionary\n",
    "    device_data_train = {}\n",
    "    for sample_id in sample_ids_train:\n",
    "        device_data_train[sample_id] = device_data[sample_id]\n",
    "    \n",
    "    # Create the validation data dictionary\n",
    "    device_data_validate = {}\n",
    "    for sample_id in sample_ids_validate:\n",
    "        device_data_validate[sample_id] = device_data[sample_id]\n",
    "    \n",
    "    # Save the train data dictionary to a pickle file\n",
    "    with open(os.path.join(output_folder_train, file_name), 'wb') as f:\n",
    "        pickle.dump(device_data_train, f)\n",
    "    \n",
    "    # Save the validation data dictionary to a pickle file\n",
    "    with open(os.path.join(output_folder_validate, file_name), 'wb') as f:\n",
    "        pickle.dump(device_data_validate, f)\n"
   ]
  },
  {
   "cell_type": "code",
   "execution_count": null,
   "id": "100816d7-cbca-4e28-b62e-b9c1fbde11e7",
   "metadata": {},
   "outputs": [],
   "source": []
  }
 ],
 "metadata": {
  "kernelspec": {
   "display_name": "Python 3 (ipykernel)",
   "language": "python",
   "name": "python3"
  },
  "language_info": {
   "codemirror_mode": {
    "name": "ipython",
    "version": 3
   },
   "file_extension": ".py",
   "mimetype": "text/x-python",
   "name": "python",
   "nbconvert_exporter": "python",
   "pygments_lexer": "ipython3",
   "version": "3.10.8"
  }
 },
 "nbformat": 4,
 "nbformat_minor": 5
}
