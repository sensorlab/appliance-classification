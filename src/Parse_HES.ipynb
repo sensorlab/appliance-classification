{
 "cells": [
  {
   "cell_type": "code",
   "execution_count": 1,
   "id": "190befeb-aae2-4275-bb94-bad49772eccc",
   "metadata": {},
   "outputs": [
    {
     "name": "stdout",
     "output_type": "stream",
     "text": [
      "Requirement already satisfied: tqdm in /opt/conda/lib/python3.10/site-packages (4.64.1)\n"
     ]
    }
   ],
   "source": [
    "!pip install tqdm\n",
    "import csv\n",
    "import os\n",
    "import datetime\n",
    "import pandas as pd\n",
    "from tqdm import tqdm\n",
    "import numpy as np\n",
    "import pickle\n",
    "import matplotlib.pyplot as plt \n",
    "\n",
    "device_dict={2: 'Dishwasher', 3: 'Treadmill', 4: 'Car charger', 5: 'Microwave', 6: 'Fridge', 7: 'Air exchanger', 8: 'Heat bedroom #1', 9: 'Heat bedroom #2', 10: 'Heat kitchen', 11: 'Heat living room', 12: 'Heat bedroom #3', 13: 'Heat dining room', 14: 'Water heater', 15: 'Office outlet #3', 16: 'Heat basement', 17: 'Office outlet #2', 18: 'Basement bathroom', 19: 'Office outlet #1', 20: 'Heat garage', 21: 'Garage/Basement outlets', 22: 'Oven', 23: 'Outdoor outlets', 24: 'Whirlpool bath', 25: 'Powder room outlets', 26: 'Lights Powder room/kitchen', 27: 'Lights bedroom #1 and #3', 28: 'Basement outlets', 29: 'Living/dining room outlets', 30: 'Bedroom #2 outlets', 31: 'Secondary outlets', 32: 'Washing machine', 33: 'Air Conditioning', 34: 'Basement/powder room outlets', 35: 'Kitchen outlet #1', 36: 'Kitchen outlet #2', 37: 'Kitchen outlet #3', 38: 'Kitchen outlet #4', 39: 'Dryer', 40: 'Towel dryer'}"
   ]
  },
  {
   "cell_type": "code",
   "execution_count": 3,
   "id": "3254b06e-4eaf-4575-8b1d-47513d61ae4f",
   "metadata": {
    "tags": []
   },
   "outputs": [],
   "source": [
    "def process_file(filename, device_dict):\n",
    "    # Initialize power_dict with keys for each device name (lowercase)\n",
    "    power_dict = {key.lower(): {} for key in device_dict.values()}\n",
    "\n",
    "    # Get file name and create date object\n",
    "    date_str = os.path.basename(filename).split(\".\")[0]\n",
    "\n",
    "    # Open file and read through it, adding data to power_dict\n",
    "    with open(filename, errors='ignore') as csv_file:\n",
    "        \n",
    "        # Delete all empty lines that may appear in the file\n",
    "        lines = [line.replace('\\x00', '') for line in csv_file]\n",
    "\n",
    "        # Use tqdm to display progress bar while reading through file\n",
    "        for row in csv.reader(lines):\n",
    "            parts = row[0].split(\";\")\n",
    "\n",
    "            if len(parts) != 3 or not all(parts):\n",
    "                continue\n",
    "\n",
    "            time = parts[0]\n",
    "            datetime = date_str + ' ' + time\n",
    "            sensor_number = int(parts[1].lstrip(\"0\"))\n",
    "            sensor_value = int(parts[2].replace(\".\", \"\"))\n",
    "\n",
    "            device_name = device_dict[sensor_number].lower()\n",
    "            power_dict[device_name][datetime] = sensor_value\n",
    "\n",
    "    processed_data = {}\n",
    "    for appliance in power_dict:\n",
    "        # Convert the data in the inner dictionary to a dataframe\n",
    "        power_dict[appliance] = pd.DataFrame.from_dict(power_dict[appliance], \n",
    "                                                       orient='index', \n",
    "                                                       columns=[appliance])\n",
    "        \n",
    "        power_dict[appliance].index = pd.to_datetime(power_dict[appliance].index)\n",
    " \n",
    "        # Resample the dataframe to 7 seconds intervals and backfill the missing values\n",
    "        power_dict[appliance] = power_dict[appliance].resample('7s').ffill(limit=1).fillna(0)\n",
    "        # Convert the index to period of seconds\n",
    "        power_dict[appliance].index = power_dict[appliance].index.to_period('s')\n",
    "\n",
    "        # Check if sample has at least 2 non-NaN elements and has at least one value greater than 20\n",
    "        sample = power_dict[appliance].to_numpy()\n",
    "        if len(sample) < 2 or not np.any(sample > 20):\n",
    "            continue\n",
    "\n",
    "        processed_data[appliance] = power_dict[appliance]\n",
    "\n",
    "    return processed_data\n"
   ]
  },
  {
   "cell_type": "code",
   "execution_count": 4,
   "id": "2569490c-e7cf-413c-8b4a-0bcbbbca64aa",
   "metadata": {
    "tags": []
   },
   "outputs": [
    {
     "name": "stderr",
     "output_type": "stream",
     "text": [
      "100%|██████████| 29/29 [02:07<00:00,  4.38s/it]\n"
     ]
    }
   ],
   "source": [
    "# Get list of files in the path\n",
    "path = 'HES_july'\n",
    "files = os.listdir(path)\n",
    "\n",
    "# Get keys from first file\n",
    "keys = list(process_file(path+\"/\"+files[0], device_dict).keys())\n",
    "\n",
    "# Process all files in the directory and store them in a list\n",
    "samples = [process_file(path+\"/\"+filename, device_dict) for filename in tqdm(files)]\n",
    "\n",
    "# Create dictionary where each key corresponds to a list of the values from that key in each sample\n",
    "processed_data = {key: [sample[key] for sample in samples] for key in keys}"
   ]
  },
  {
   "cell_type": "code",
   "execution_count": 7,
   "id": "1b9ddcb1-e294-4a8a-be86-84ad5f984d62",
   "metadata": {},
   "outputs": [],
   "source": [
    "# Save processed data to a pickle file\n",
    "with open('HES_PROCESSED.pickle', 'wb') as handle:\n",
    "    pickle.dump(processed_data, handle, protocol=pickle.HIGHEST_PROTOCOL)"
   ]
  }
 ],
 "metadata": {
  "kernelspec": {
   "display_name": "Python 3 (ipykernel)",
   "language": "python",
   "name": "python3"
  },
  "language_info": {
   "codemirror_mode": {
    "name": "ipython",
    "version": 3
   },
   "file_extension": ".py",
   "mimetype": "text/x-python",
   "name": "python",
   "nbconvert_exporter": "python",
   "pygments_lexer": "ipython3",
   "version": "3.10.8"
  }
 },
 "nbformat": 4,
 "nbformat_minor": 5
}
