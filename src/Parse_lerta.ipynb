{
 "cells": [
  {
   "cell_type": "code",
   "execution_count": 63,
   "id": "190befeb-aae2-4275-bb94-bad49772eccc",
   "metadata": {},
   "outputs": [
    {
     "name": "stdout",
     "output_type": "stream",
     "text": [
      "Requirement already satisfied: tqdm in /opt/conda/lib/python3.10/site-packages (4.64.1)\n"
     ]
    }
   ],
   "source": [
    "!pip install tqdm\n",
    "import csv\n",
    "import os\n",
    "import datetime\n",
    "from datetime import datetime\n",
    "import pandas as pd\n",
    "from tqdm import tqdm\n",
    "import numpy as np\n",
    "import matplotlib.pyplot as plt \n",
    "import itertools\n",
    "import warnings\n",
    "import pickle\n",
    "\n",
    "warnings.simplefilter(\"ignore\", UserWarning)\n",
    "device_dict = {3: 'kettle', 4: 'microwave', 5: 'fridge', 6: 'dishwasher', 7: 'washing machine', 8: 'Unknown', 9: 'Unknown', 10: 'Unknown', 11: 'Unknown', 12: 'Unknown', 13: 'Unknown'}\n",
    "device_list = list(device_dict.values())"
   ]
  },
  {
   "cell_type": "code",
   "execution_count": 64,
   "id": "770d454b-90a9-4990-b389-d542f8aaf1b9",
   "metadata": {},
   "outputs": [],
   "source": [
    "def process_file(filename, device_dict):\n",
    "    # Initialize power_dict with keys for each device name (lowercase)\n",
    "    power_dict = {key.lower(): {} for key in device_dict.values()}\n",
    "    samples = []\n",
    "\n",
    "    # Open file and read through it, adding data to power_dict\n",
    "    with open(filename, 'r') as file:\n",
    "        csvreader = csv.reader(file)\n",
    "        lines = [line for line in csvreader]\n",
    "\n",
    "        current_day = None\n",
    "        for row in tqdm(lines[1:], smoothing=0):\n",
    "            # Parse date and time from first column\n",
    "            date_time = datetime.strptime(row[0], '%Y-%m-%d %H:%M:%S%z')\n",
    "\n",
    "            # Check if the current row belongs to the current day\n",
    "            if current_day is None:\n",
    "                current_day = date_time.date()\n",
    "            elif date_time.date() != current_day:\n",
    "                # If the current row is for a different day, process the current day's data\n",
    "                processed_data = formatting(power_dict)\n",
    "                samples.append(processed_data)\n",
    "\n",
    "                # Clear power_dict for the next day's data\n",
    "                power_dict = {key.lower(): {} for key in device_dict.values()}\n",
    "                current_day = date_time.date()\n",
    "\n",
    "            # Add data to power_dict\n",
    "            count = 0\n",
    "            for value in row[2:]:\n",
    "                if device_list[count] in power_dict:\n",
    "                    power_dict[device_list[count]][date_time] = float(value)\n",
    "                    count += 1\n",
    "\n",
    "    return samples\n",
    "\n"
   ]
  },
  {
   "cell_type": "code",
   "execution_count": 65,
   "id": "629760f0-1666-4d3d-833c-c7dcf5b9926a",
   "metadata": {},
   "outputs": [],
   "source": [
    "def formatting(power_dict):\n",
    "    processed_data = {}\n",
    "    for appliance in power_dict:\n",
    "        # Convert the data in the inner dictionary to a dataframe\n",
    "        power_dict[appliance] = pd.DataFrame.from_dict(power_dict[appliance], \n",
    "                                                        orient='index', \n",
    "                                                        columns=[appliance])\n",
    "        \n",
    "        power_dict[appliance].index = pd.to_datetime(power_dict[appliance].index,utc=True)\n",
    "\n",
    "        # Resample the dataframe to 7 seconds intervals and backfill the missing values\n",
    "        power_dict[appliance] = power_dict[appliance].resample('7s').ffill(limit=1).fillna(0)\n",
    "        # Convert the index to period of seconds\n",
    "        power_dict[appliance].index = power_dict[appliance].index.to_period('s')\n",
    "\n",
    "        #if len(sample) < 2 or not np.any(sample > 20):\n",
    "            #continue\n",
    "\n",
    "        processed_data[appliance] = power_dict[appliance]\n",
    "    return processed_data"
   ]
  },
  {
   "cell_type": "code",
   "execution_count": 66,
   "id": "2569490c-e7cf-413c-8b4a-0bcbbbca64aa",
   "metadata": {
    "tags": []
   },
   "outputs": [
    {
     "name": "stdout",
     "output_type": "stream",
     "text": [
      "<_io.TextIOWrapper name='new_datasets/LERTA/CLEAN_Lerta_House3.csv' mode='r' encoding='UTF-8'>\n"
     ]
    },
    {
     "name": "stderr",
     "output_type": "stream",
     "text": [
      "100%|██████████| 7319442/7319442 [02:20<00:00, 52234.30it/s]\n"
     ]
    },
    {
     "name": "stdout",
     "output_type": "stream",
     "text": [
      "<class 'list'>\n"
     ]
    }
   ],
   "source": [
    "path = 'new_datasets/LERTA'\n",
    "files = os.listdir(path)\n",
    "samples=process_file('new_datasets/LERTA/CLEAN_Lerta_House3.csv', device_dict)\n",
    "keys=device_list\n",
    "processed_data = {}\n",
    "for key in keys:\n",
    "    values = []\n",
    "    for sample in samples:\n",
    "        if key in sample:\n",
    "            values.append(sample[key])\n",
    "    processed_data[key] = values\n",
    "\n",
    "#processed_data = {key: [sample[key] for sample in samples] for key in keys}"
   ]
  },
  {
   "cell_type": "code",
   "execution_count": 89,
   "id": "1b9ddcb1-e294-4a8a-be86-84ad5f984d62",
   "metadata": {},
   "outputs": [],
   "source": [
    "# Save processed data to a pickle file\n",
    "with open('letra_processed.pkl', 'wb') as handle:\n",
    "    pickle.dump(processed_data, handle, protocol=pickle.HIGHEST_PROTOCOL)"
   ]
  }
 ],
 "metadata": {
  "kernelspec": {
   "display_name": "Python 3 (ipykernel)",
   "language": "python",
   "name": "python3"
  },
  "language_info": {
   "codemirror_mode": {
    "name": "ipython",
    "version": 3
   },
   "file_extension": ".py",
   "mimetype": "text/x-python",
   "name": "python",
   "nbconvert_exporter": "python",
   "pygments_lexer": "ipython3",
   "version": "3.10.8"
  }
 },
 "nbformat": 4,
 "nbformat_minor": 5
}
